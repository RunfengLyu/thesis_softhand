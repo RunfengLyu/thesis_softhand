{
 "cells": [
  {
   "cell_type": "code",
   "execution_count": 1,
   "metadata": {},
   "outputs": [
    {
     "name": "stderr",
     "output_type": "stream",
     "text": [
      "/home/rlyv/softhand_sim/venv_softhand/lib/python3.8/site-packages/glfw/__init__.py:916: GLFWError: (65544) b'X11: The DISPLAY environment variable is missing'\n",
      "  warnings.warn(message, GLFWError)\n",
      "/home/rlyv/softhand_sim/venv_softhand/lib/python3.8/site-packages/glfw/__init__.py:916: GLFWError: (65537) b'The GLFW library is not initialized'\n",
      "  warnings.warn(message, GLFWError)\n"
     ]
    },
    {
     "ename": "FatalError",
     "evalue": "an OpenGL platform library has not been loaded into this process, this most likely means that a valid OpenGL context has not been created before mjr_makeContext was called",
     "output_type": "error",
     "traceback": [
      "\u001b[0;31m---------------------------------------------------------------------------\u001b[0m",
      "\u001b[0;31mFatalError\u001b[0m                                Traceback (most recent call last)",
      "\u001b[1;32m/home/rlyv/softhand_sim/softhand_sim/envs/env_visualize.ipynb Cell 1\u001b[0m line \u001b[0;36m5\n\u001b[1;32m      <a href='vscode-notebook-cell://ssh-remote%2B7b22686f73744e616d65223a2231302e3136322e31322e313530222c2275736572223a22726c7976227d/home/rlyv/softhand_sim/softhand_sim/envs/env_visualize.ipynb#W0sdnNjb2RlLXJlbW90ZQ%3D%3D?line=2'>3</a>\u001b[0m model \u001b[39m=\u001b[39m mujoco\u001b[39m.\u001b[39mMjModel\u001b[39m.\u001b[39mfrom_xml_path(os\u001b[39m.\u001b[39mpath\u001b[39m.\u001b[39mjoin(\u001b[39m\"\u001b[39m\u001b[39m/home/rlyv/softhand_sim/softhand_sim/envs/assets/finger_model.xml\u001b[39m\u001b[39m\"\u001b[39m))\n\u001b[1;32m      <a href='vscode-notebook-cell://ssh-remote%2B7b22686f73744e616d65223a2231302e3136322e31322e313530222c2275736572223a22726c7976227d/home/rlyv/softhand_sim/softhand_sim/envs/env_visualize.ipynb#W0sdnNjb2RlLXJlbW90ZQ%3D%3D?line=3'>4</a>\u001b[0m data \u001b[39m=\u001b[39m mujoco\u001b[39m.\u001b[39mMjData(model)\n\u001b[0;32m----> <a href='vscode-notebook-cell://ssh-remote%2B7b22686f73744e616d65223a2231302e3136322e31322e313530222c2275736572223a22726c7976227d/home/rlyv/softhand_sim/softhand_sim/envs/env_visualize.ipynb#W0sdnNjb2RlLXJlbW90ZQ%3D%3D?line=4'>5</a>\u001b[0m renderer \u001b[39m=\u001b[39m mujoco\u001b[39m.\u001b[39;49mRenderer(model)\n\u001b[1;32m      <a href='vscode-notebook-cell://ssh-remote%2B7b22686f73744e616d65223a2231302e3136322e31322e313530222c2275736572223a22726c7976227d/home/rlyv/softhand_sim/softhand_sim/envs/env_visualize.ipynb#W0sdnNjb2RlLXJlbW90ZQ%3D%3D?line=6'>7</a>\u001b[0m renderer \u001b[39m=\u001b[39m mujoco\u001b[39m.\u001b[39mRenderer(model)\n\u001b[1;32m      <a href='vscode-notebook-cell://ssh-remote%2B7b22686f73744e616d65223a2231302e3136322e31322e313530222c2275736572223a22726c7976227d/home/rlyv/softhand_sim/softhand_sim/envs/env_visualize.ipynb#W0sdnNjb2RlLXJlbW90ZQ%3D%3D?line=8'>9</a>\u001b[0m mujoco\u001b[39m.\u001b[39mmj_forward(model, data)\n",
      "File \u001b[0;32m~/softhand_sim/venv_softhand/lib/python3.8/site-packages/mujoco/renderer.py:83\u001b[0m, in \u001b[0;36mRenderer.__init__\u001b[0;34m(self, model, height, width, max_geom)\u001b[0m\n\u001b[1;32m     81\u001b[0m \u001b[39mself\u001b[39m\u001b[39m.\u001b[39m_gl_context \u001b[39m=\u001b[39m gl_context\u001b[39m.\u001b[39mGLContext(width, height)  \u001b[39m# type: ignore\u001b[39;00m\n\u001b[1;32m     82\u001b[0m \u001b[39mself\u001b[39m\u001b[39m.\u001b[39m_gl_context\u001b[39m.\u001b[39mmake_current()\n\u001b[0;32m---> 83\u001b[0m \u001b[39mself\u001b[39m\u001b[39m.\u001b[39m_mjr_context \u001b[39m=\u001b[39m _render\u001b[39m.\u001b[39;49mMjrContext(\n\u001b[1;32m     84\u001b[0m     model, _enums\u001b[39m.\u001b[39;49mmjtFontScale\u001b[39m.\u001b[39;49mmjFONTSCALE_150\u001b[39m.\u001b[39;49mvalue\n\u001b[1;32m     85\u001b[0m )\n\u001b[1;32m     86\u001b[0m _render\u001b[39m.\u001b[39mmjr_setBuffer(\n\u001b[1;32m     87\u001b[0m     _enums\u001b[39m.\u001b[39mmjtFramebuffer\u001b[39m.\u001b[39mmjFB_OFFSCREEN\u001b[39m.\u001b[39mvalue, \u001b[39mself\u001b[39m\u001b[39m.\u001b[39m_mjr_context\n\u001b[1;32m     88\u001b[0m )\n\u001b[1;32m     89\u001b[0m \u001b[39mself\u001b[39m\u001b[39m.\u001b[39m_mjr_context\u001b[39m.\u001b[39mreadDepthMap \u001b[39m=\u001b[39m _enums\u001b[39m.\u001b[39mmjtDepthMap\u001b[39m.\u001b[39mmjDEPTH_ZEROFAR\n",
      "\u001b[0;31mFatalError\u001b[0m: an OpenGL platform library has not been loaded into this process, this most likely means that a valid OpenGL context has not been created before mjr_makeContext was called"
     ]
    }
   ],
   "source": [
    "import mujoco\n",
    "import os\n",
    "import media\n",
    "model = mujoco.MjModel.from_xml_path(os.path.join(\"/home/rlyv/softhand_sim/softhand_sim/envs/assets/finger_model.xml\"))\n",
    "data = mujoco.MjData(model)\n",
    "renderer = mujoco.Renderer(model)\n",
    "\n",
    "mujoco.mj_forward(model, data)\n",
    "renderer.update_scene(data)\n",
    "\n",
    "media.show_image(renderer.render())"
   ]
  }
 ],
 "metadata": {
  "kernelspec": {
   "display_name": "venv_softhand",
   "language": "python",
   "name": "python3"
  },
  "language_info": {
   "codemirror_mode": {
    "name": "ipython",
    "version": 3
   },
   "file_extension": ".py",
   "mimetype": "text/x-python",
   "name": "python",
   "nbconvert_exporter": "python",
   "pygments_lexer": "ipython3",
   "version": "3.8.10"
  }
 },
 "nbformat": 4,
 "nbformat_minor": 2
}
