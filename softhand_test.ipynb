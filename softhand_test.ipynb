version https://git-lfs.github.com/spec/v1
oid sha256:5f4829f17bb5c87bda38e4bd2ebd7189f6910dfdb338f626406e22a975827307
size 23431
