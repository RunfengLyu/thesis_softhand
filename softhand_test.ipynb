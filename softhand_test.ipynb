version https://git-lfs.github.com/spec/v1
oid sha256:e75371039f96e2796eae2e004448fcc3f0b63888295b3f4f46378376ca76832a
size 34529
