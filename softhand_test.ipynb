version https://git-lfs.github.com/spec/v1
oid sha256:12b84c23d8d0f8d5223f465a43cdcde6c70bdd1869c0c321b01fb56fa59d74bf
size 31316
